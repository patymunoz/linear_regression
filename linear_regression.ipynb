{
 "cells": [
  {
   "attachments": {},
   "cell_type": "markdown",
   "id": "82ad9459",
   "metadata": {},
   "source": [
    "# Simple linear regression"
   ]
  },
  {
   "cell_type": "code",
   "execution_count": null,
   "id": "804ce822",
   "metadata": {},
   "outputs": [],
   "source": [
    "import warnings\n",
    "import os\n",
    "import pandas as pd\n",
    "import numpy as np\n",
    "import matplotlib.pyplot as plt\n",
    "import seaborn as sns\n",
    "from scipy import stats\n",
    "from sklearn import datasets, linear_model\n",
    "from sklearn.model_selection import train_test_split"
   ]
  },
  {
   "cell_type": "code",
   "execution_count": null,
   "id": "739093ff",
   "metadata": {},
   "outputs": [],
   "source": [
    "from statsmodels.compat import lzip\n",
    "import statsmodels.api as sm\n",
    "import statsmodels.stats.api as sms\n",
    "warnings.filterwarnings(\"ignore\")"
   ]
  },
  {
   "cell_type": "code",
   "execution_count": null,
   "id": "7b011e3b",
   "metadata": {},
   "outputs": [],
   "source": [
    "# Datase\n",
    "diabetes = pd.read_csv(os.path.join('data', 'diabetes.csv'))"
   ]
  },
  {
   "cell_type": "code",
   "execution_count": null,
   "id": "3dc583a9",
   "metadata": {},
   "outputs": [],
   "source": [
    "diabetes.drop(columns=['y'], inplace=True)"
   ]
  },
  {
   "attachments": {},
   "cell_type": "markdown",
   "id": "fb1a2c1a",
   "metadata": {},
   "source": [
    "# Objective\n",
    "\n",
    "* To explain the relationship between glucose and body mass index (BMI)."
   ]
  },
  {
   "attachments": {},
   "cell_type": "markdown",
   "id": "9f34e69c",
   "metadata": {},
   "source": [
    "## Questions\n",
    "\n",
    "* Is there a relationship between glucose and BMI?\n",
    "* The relationship is linear?\n",
    "* Body mass index (BMI) has an effect on glucose?\n",
    "* If the effect exists, is positive or negative?"
   ]
  },
  {
   "attachments": {},
   "cell_type": "markdown",
   "id": "80b88d5c",
   "metadata": {},
   "source": [
    "## Methodology\n",
    "\n",
    "* Simple linear regression\n",
    "\n",
    "y = dependent variable (response variable) = glucose\n",
    "\n",
    "x = independent variable (predictor variable) = BMI\n",
    "\n",
    "$\\beta_0$ is the intercept term, $\\beta_1$ is the slope term.\n",
    "\n",
    "* Hypothesis testing\n",
    "\n",
    "$H_0$ = there is no relationship between glucose and BMI\n",
    "\n",
    "$H_1$ = there is a relationship between glucose and BMI"
   ]
  },
  {
   "attachments": {},
   "cell_type": "markdown",
   "id": "9dba77c6",
   "metadata": {},
   "source": [
    "### a) Explore the data"
   ]
  },
  {
   "cell_type": "code",
   "execution_count": null,
   "id": "100d84ef",
   "metadata": {},
   "outputs": [],
   "source": [
    "diabetes.describe()"
   ]
  },
  {
   "cell_type": "code",
   "execution_count": null,
   "id": "6807c2b8",
   "metadata": {},
   "outputs": [],
   "source": [
    "corr = diabetes.corr()\n",
    "corr"
   ]
  },
  {
   "cell_type": "code",
   "execution_count": null,
   "id": "1cabfc05",
   "metadata": {},
   "outputs": [],
   "source": [
    "plt.subplots(figsize=(8,8))\n",
    "sns.heatmap(corr,annot=True)\n",
    "plt.show()"
   ]
  },
  {
   "attachments": {},
   "cell_type": "markdown",
   "id": "dec927e8",
   "metadata": {},
   "source": [
    "### b) Linear regression with one variable"
   ]
  },
  {
   "cell_type": "code",
   "execution_count": null,
   "id": "3de8a143",
   "metadata": {},
   "outputs": [],
   "source": [
    "# series into numpy array\n",
    "bmi = diabetes.bmi.to_numpy()\n",
    "glucose = diabetes.glu.to_numpy()"
   ]
  },
  {
   "cell_type": "code",
   "execution_count": null,
   "id": "d3a0336d",
   "metadata": {},
   "outputs": [],
   "source": [
    "# define the input variable (X) & output variable (Y)\n",
    "X = bmi\n",
    "Y = glucose"
   ]
  },
  {
   "cell_type": "code",
   "execution_count": null,
   "id": "3d0bca05",
   "metadata": {},
   "outputs": [],
   "source": [
    "# Plot all the data\n",
    "sns.scatterplot(x=X, y=Y)\n",
    "plt.show()"
   ]
  },
  {
   "attachments": {},
   "cell_type": "markdown",
   "id": "d7210840",
   "metadata": {},
   "source": [
    "#### Option 1. Using Scikit learn"
   ]
  },
  {
   "cell_type": "code",
   "execution_count": null,
   "id": "40840161",
   "metadata": {},
   "outputs": [],
   "source": [
    "# Linear Regression Model\n",
    "X_train, X_test, Y_train, Y_test = train_test_split(X,Y, test_size=0.2)\n",
    "rls = linear_model.LinearRegression()\n",
    "modelo = rls.fit(np.reshape(X_train,(-1,1)),Y_train)\n",
    "Y_pred = rls.predict(np.reshape(X_test,(-1,1)))"
   ]
  },
  {
   "cell_type": "code",
   "execution_count": null,
   "id": "cd240220",
   "metadata": {},
   "outputs": [],
   "source": [
    "intercept = rls.intercept_\n",
    "slope = rls.coef_\n",
    "\n",
    "intercept, slope"
   ]
  },
  {
   "attachments": {},
   "cell_type": "markdown",
   "id": "6ecf1372",
   "metadata": {},
   "source": [
    "### To see step by step (results for R-squared of test data)"
   ]
  },
  {
   "cell_type": "code",
   "execution_count": null,
   "id": "2b869df8",
   "metadata": {},
   "outputs": [],
   "source": [
    "df_test = pd.DataFrame({'x': X_test, 'y': Y_test, 'y_pred': Y_pred})"
   ]
  },
  {
   "cell_type": "code",
   "execution_count": null,
   "id": "ba30dcb9",
   "metadata": {},
   "outputs": [],
   "source": [
    "# Plot the data\n",
    "sns.scatterplot(x=X_test, y=Y_test)\n",
    "plt.show()"
   ]
  },
  {
   "cell_type": "code",
   "execution_count": null,
   "id": "6bb92ca6",
   "metadata": {},
   "outputs": [],
   "source": [
    "df_test['residual_squares'] = (df_test['y'] - df_test['y_pred'])**2\n",
    "df_test['sum_of_squares'] = (df_test['y'] - df_test['y'].mean())**2"
   ]
  },
  {
   "cell_type": "code",
   "execution_count": null,
   "id": "bd182ab3",
   "metadata": {},
   "outputs": [],
   "source": [
    "df_test"
   ]
  },
  {
   "cell_type": "code",
   "execution_count": null,
   "id": "1d651d29",
   "metadata": {},
   "outputs": [],
   "source": [
    "rss_test = df_test['residual_squares'].sum()\n",
    "tss_test = df_test['sum_of_squares'].sum()"
   ]
  },
  {
   "cell_type": "code",
   "execution_count": null,
   "id": "e2c32b0b",
   "metadata": {},
   "outputs": [],
   "source": [
    "r2_test = 1 - (rss_test/tss_test)\n",
    "r2_test"
   ]
  },
  {
   "attachments": {},
   "cell_type": "markdown",
   "id": "7f2c6e3b",
   "metadata": {},
   "source": [
    "### To see step by step (results for R.squared of training data)"
   ]
  },
  {
   "cell_type": "code",
   "execution_count": null,
   "id": "3d9539a6",
   "metadata": {},
   "outputs": [],
   "source": [
    "df_train = pd.DataFrame({'x': X_train, 'y': Y_train})"
   ]
  },
  {
   "cell_type": "code",
   "execution_count": null,
   "id": "5e377000",
   "metadata": {},
   "outputs": [],
   "source": [
    "# Plot the data\n",
    "sns.scatterplot(x=X_train, y=Y_train)\n",
    "plt.show()"
   ]
  },
  {
   "cell_type": "code",
   "execution_count": null,
   "id": "da917423",
   "metadata": {},
   "outputs": [],
   "source": [
    "df_train['y_pred'] = slope*X_train + intercept"
   ]
  },
  {
   "cell_type": "code",
   "execution_count": null,
   "id": "8af09d1a",
   "metadata": {},
   "outputs": [],
   "source": [
    "df_train['residual_squares'] = (df_train['y'] - df_train['y_pred'])**2\n",
    "df_train['sum_of_squares'] = (df_train['y'] - df_train['y'].mean())**2"
   ]
  },
  {
   "cell_type": "code",
   "execution_count": null,
   "id": "efd4df4d",
   "metadata": {},
   "outputs": [],
   "source": [
    "df_train"
   ]
  },
  {
   "cell_type": "code",
   "execution_count": null,
   "id": "4215e600",
   "metadata": {},
   "outputs": [],
   "source": [
    "rss_train = df_train['residual_squares'].sum()\n",
    "tss_train = df_train['sum_of_squares'].sum()"
   ]
  },
  {
   "cell_type": "code",
   "execution_count": null,
   "id": "ff458dfe",
   "metadata": {},
   "outputs": [],
   "source": [
    "r2_train = 1 - (rss_train/tss_train)\n",
    "r2_train"
   ]
  },
  {
   "cell_type": "code",
   "execution_count": null,
   "id": "6489dd64",
   "metadata": {},
   "outputs": [],
   "source": [
    "# Parameters for hypothesis test B1\n",
    "# Parámetros para prueba de hipótesis B1\n",
    "error = Y_test - Y_pred\n",
    "ds_error = error.std()\n",
    "ds_X = X_test.std()\n",
    "error_st = ds_error/np.sqrt(102)\n",
    "t1 = rls.coef_/(error_st/ds_X)\n",
    "print(t1)"
   ]
  },
  {
   "cell_type": "code",
   "execution_count": null,
   "id": "e7e9cbbc",
   "metadata": {},
   "outputs": [],
   "source": [
    "# Parameters for hypothesis test B0\n",
    "# Parámetros para prueba de hipótesis B0\n",
    "media_X = X_test.mean()\n",
    "media_XC = pow(media_X,2)\n",
    "var_X = X_test.var()\n",
    "to = rls.intercept_/(error_st*np.sqrt(1+(media_XC/var_X)))\n",
    "print(to)"
   ]
  },
  {
   "cell_type": "code",
   "execution_count": null,
   "id": "2e9ebf5f",
   "metadata": {},
   "outputs": [],
   "source": [
    "#%% Linear regression graph\n",
    "plt.scatter(X_test,Y_test)\n",
    "plt.plot(X_test,Y_pred, color='r',linewidth=3)\n",
    "plt.title(' Linear Regression ')\n",
    "plt.xlabel('Body Mass Index (BMI)')\n",
    "plt.ylabel('Glucose (mg) in blood')\n",
    "plt.show()"
   ]
  },
  {
   "cell_type": "code",
   "execution_count": null,
   "id": "812c4120",
   "metadata": {},
   "outputs": [],
   "source": [
    "# Ajuste de la linea de regresión\n",
    "plt.figure()\n",
    "sns.regplot(Y_test,Y_pred, data=diabetes, marker='+')\n",
    "plt.xlabel('Actual Values')\n",
    "plt.ylabel('Predicted  Values')\n",
    "plt.title('Actual Values VS Predicted Value')\n",
    "plt.show()"
   ]
  },
  {
   "attachments": {},
   "cell_type": "markdown",
   "id": "c5d277a8",
   "metadata": {},
   "source": [
    "#### Option 2. Statsmodel"
   ]
  },
  {
   "cell_type": "code",
   "execution_count": null,
   "id": "0ae1574c",
   "metadata": {},
   "outputs": [],
   "source": [
    "# Modelo de regresión lineal (statsmodel)\n",
    "X_2=sm.add_constant(X_train,prepend=True)\n",
    "rls_2=sm.OLS(Y_train,X_2)\n",
    "modelo_2=rls_2.fit()\n",
    "print(modelo_2.summary())\n",
    "Y_pred_2=modelo_2.predict()\n",
    "error_2=modelo_2.resid"
   ]
  },
  {
   "cell_type": "code",
   "execution_count": null,
   "id": "3719c3a6",
   "metadata": {},
   "outputs": [],
   "source": [
    "# Visualize homoscedasticity\n",
    "# Visualizar homocedasticidad \n",
    "plt.figure()\n",
    "sns.regplot(Y_pred_2,error_2, data=diabetes, marker='*')\n",
    "plt.xlabel('Fitted Values', size=20)\n",
    "plt.ylabel('Residuals', size=20)\n",
    "plt.title('Fitted Values VS Residuals', size=20)\n",
    "plt.show()"
   ]
  },
  {
   "cell_type": "code",
   "execution_count": null,
   "id": "8384756a",
   "metadata": {},
   "outputs": [],
   "source": [
    "# Forma Estadística de Homocedasticidad\n",
    "# Breusch-Pagan\n",
    "# H0: Homocedasticidad (p>0.05)\n",
    "# H1: No homocedasticidad (p<0.05)\n",
    "\n",
    "# H0: Homoscedasticity (p>0.05)\n",
    "# H1: No homoscedasticity (p<0.05)\n",
    "names=['Lagrange multiplier statistic', 'p-value',\n",
    "        'f-value', 'f p-value']\n",
    "test = sms.het_breuschpagan(modelo_2.resid, X_2)\n",
    "lzip(names, test)"
   ]
  },
  {
   "cell_type": "code",
   "execution_count": null,
   "id": "500db342",
   "metadata": {},
   "outputs": [],
   "source": [
    "# Plot of normality of residuals\n",
    "# Forma gráfica de la  normalidad de los residuos\n",
    "plt.figure()\n",
    "plt.hist(modelo_2.resid)\n",
    "plt.show()"
   ]
  },
  {
   "cell_type": "code",
   "execution_count": null,
   "id": "a03c92bd",
   "metadata": {},
   "outputs": [],
   "source": [
    "# QQ plot\n",
    "plt.figure()\n",
    "ax=sm.qqplot(modelo_2.resid)\n",
    "plt.show()"
   ]
  },
  {
   "cell_type": "code",
   "execution_count": null,
   "id": "b6edbb49",
   "metadata": {},
   "outputs": [],
   "source": [
    "# QQ plot\n",
    "plt.figure()\n",
    "\n",
    "ax=sm.qqplot(modelo_2.resid, line='45',scale=10)\n",
    "plt.show()"
   ]
  },
  {
   "cell_type": "code",
   "execution_count": null,
   "id": "a88e65b1",
   "metadata": {},
   "outputs": [],
   "source": [
    "# Forma estadística de la normalidda (Shapiro-Wilk)\n",
    "#Ho: Normalidad (p>0.05)\n",
    "#H1: No normalidad (p<0.05)\n",
    "\n",
    "#Ho: Normality (p>0.05)\n",
    "#H1: No normality (p<0.05)\n",
    "names=[' Statistic', 'p-value']\n",
    "test=stats.shapiro(modelo_2.resid)\n",
    "lzip(names,test)"
   ]
  },
  {
   "attachments": {},
   "cell_type": "markdown",
   "id": "d1f05167",
   "metadata": {},
   "source": [
    "# Multiple linear regression"
   ]
  },
  {
   "cell_type": "code",
   "execution_count": null,
   "id": "0d2fbbde",
   "metadata": {},
   "outputs": [],
   "source": [
    "# Convert series to numpy array\n",
    "diabetes_array = diabetes.to_numpy()"
   ]
  },
  {
   "cell_type": "code",
   "execution_count": null,
   "id": "9bd774c0",
   "metadata": {},
   "outputs": [],
   "source": [
    "# Dimensions of the array\n",
    "diabetes_array.shape"
   ]
  },
  {
   "cell_type": "code",
   "execution_count": null,
   "id": "b92c8c6b",
   "metadata": {},
   "outputs": [],
   "source": [
    "# Glucose as dependent variable and the rest are part of the model of variables\n",
    "X_1 = diabetes.drop(labels='glu', axis=1)\n",
    "Y_1 = diabetes['glu']"
   ]
  },
  {
   "attachments": {},
   "cell_type": "markdown",
   "id": "7313c4d1",
   "metadata": {},
   "source": [
    "##### Statsmodel"
   ]
  },
  {
   "cell_type": "code",
   "execution_count": null,
   "id": "5f50df85",
   "metadata": {},
   "outputs": [],
   "source": [
    "lm2 = sm.OLS.from_formula(\"glu ~ age+sex+bmi+bp+tc+ldl+hdl+tch+ltg\", data=diabetes)"
   ]
  },
  {
   "cell_type": "code",
   "execution_count": null,
   "id": "7e7cf906",
   "metadata": {},
   "outputs": [],
   "source": [
    "trained_lm2 = lm2.fit()"
   ]
  },
  {
   "cell_type": "code",
   "execution_count": null,
   "id": "60a8d76e",
   "metadata": {},
   "outputs": [],
   "source": [
    "predictions = trained_lm2.predict(X_1)"
   ]
  },
  {
   "cell_type": "code",
   "execution_count": null,
   "id": "d0e0e50c",
   "metadata": {},
   "outputs": [],
   "source": [
    "summary_model = trained_lm2.summary()\n",
    "print(summary_model)"
   ]
  },
  {
   "cell_type": "code",
   "execution_count": null,
   "id": "2990aab2",
   "metadata": {},
   "outputs": [],
   "source": [
    "# Forma Estadística de Homocedasticidad\n",
    "#Breusch-Pagan\n",
    "#H0: Homocedasticidad (p>0.05)\n",
    "#H1: No homocedasticidad (p<0.05)\n",
    "\n",
    "#H0: Homoscedasticity (p>0.05)\n",
    "#H1: No homoscedasticity (p<0.05)\n",
    "\n",
    "names = ['Lagrange multiplier statistic', 'p-value',\n",
    "        'f-value', 'f p-value']\n",
    "test = sms.het_breuschpagan(trained_lm2.resid, trained_lm2.model.exog)\n",
    "\n",
    "lzip(names, test)"
   ]
  },
  {
   "attachments": {},
   "cell_type": "markdown",
   "id": "12621ee2",
   "metadata": {},
   "source": [
    "#### Model considering only the significant variables from previous"
   ]
  },
  {
   "cell_type": "code",
   "execution_count": null,
   "id": "b21b1bcf",
   "metadata": {},
   "outputs": [],
   "source": [
    "lm3 = sm.OLS.from_formula(\"glu ~ age+bmi+bp\", data=diabetes)"
   ]
  },
  {
   "cell_type": "code",
   "execution_count": null,
   "id": "a10b7665",
   "metadata": {},
   "outputs": [],
   "source": [
    "trained_lm3 = lm3.fit()"
   ]
  },
  {
   "cell_type": "code",
   "execution_count": null,
   "id": "b379ae13",
   "metadata": {},
   "outputs": [],
   "source": [
    "predictions = trained_lm3.predict(X_1)"
   ]
  },
  {
   "cell_type": "code",
   "execution_count": null,
   "id": "86c294d0",
   "metadata": {},
   "outputs": [],
   "source": [
    "summary_model_0 = trained_lm3.summary()\n",
    "print(summary_model_0)"
   ]
  }
 ],
 "metadata": {
  "kernelspec": {
   "display_name": "Python 3 (ipykernel)",
   "language": "python",
   "name": "python3"
  },
  "language_info": {
   "codemirror_mode": {
    "name": "ipython",
    "version": 3
   },
   "file_extension": ".py",
   "mimetype": "text/x-python",
   "name": "python",
   "nbconvert_exporter": "python",
   "pygments_lexer": "ipython3",
   "version": "3.9.0"
  }
 },
 "nbformat": 4,
 "nbformat_minor": 5
}
